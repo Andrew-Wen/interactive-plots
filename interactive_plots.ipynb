{
 "cells": [
  {
   "cell_type": "code",
   "execution_count": 1,
   "metadata": {},
   "outputs": [],
   "source": [
    "import pandas as pd\n",
    "import numpy as np"
   ]
  },
  {
   "cell_type": "code",
   "execution_count": 2,
   "metadata": {},
   "outputs": [],
   "source": [
    "def plotly_scatter_plot_matrix(df, columns):\n",
    "    \n",
    "    import plotly.express as px\n",
    "    \n",
    "    # convert the label from integer to string\n",
    "    df['label'] = df['label'].astype(str)\n",
    "    \n",
    "    # set some common configs\n",
    "    opacity = 0.6\n",
    "    bgcolor = 'rgb(217,217,217)'\n",
    "    hover = ['class','start','end']\n",
    "    colors = ['#4C78A8','#DC3912']\n",
    "    \n",
    "    fig = px.scatter_matrix(df, \n",
    "                            dimensions = columns,\n",
    "                            color = 'label', \n",
    "                            hover_data = hover, \n",
    "                            opacity = opacity,\n",
    "                            color_discrete_sequence = colors,\n",
    "                           )\n",
    "    fig.update_layout(\n",
    "                        {\n",
    "                        'plot_bgcolor': bgcolor\n",
    "                        },\n",
    "                        width = 1200,\n",
    "                        height = 1200,\n",
    "                      )\n",
    "    fig.update_traces(marker = dict(size = 2))\n",
    "    fig.show()"
   ]
  },
  {
   "cell_type": "code",
   "execution_count": 3,
   "metadata": {},
   "outputs": [],
   "source": [
    "def single_plotly_plot(df, x, y, opacity=0.6, seperate=False):\n",
    "    '''\n",
    "    Generates an interacitve plot using plotly.\n",
    "    \n",
    "    Arguments:\n",
    "        df (object): A pandas.DataFrame that stores the data from a specific partition.\n",
    "        x (str): The attribute to be on x-axis.\n",
    "        y (str): The attribute to be on y-axis.\n",
    "        opacity (float): The alpha blending value, between 0 (transparent) and 1 (opaque).\n",
    "        separate (bool): Whether or not to plot flaring and non-flaring data separatly.\n",
    "    '''\n",
    "    \n",
    "    import plotly.express as px\n",
    "    \n",
    "    # convert the label from integer to string\n",
    "    df['label'] = df['label'].astype(str)\n",
    "    \n",
    "    # set some common configs\n",
    "    bgcolor = 'rgb(217,217,217)'\n",
    "    hover = ['class','start','end']\n",
    "    colors = ['#4C78A8','#DC3912']\n",
    "    \n",
    "    if seperate:\n",
    "        lim = [-0.05, 1.05]\n",
    "        \n",
    "        fig1 = px.scatter(df[df['label'] == '0'], \n",
    "                            x = x, \n",
    "                            y = y, \n",
    "                            color = 'label', \n",
    "                            hover_data = hover, \n",
    "                            opacity = opacity,\n",
    "                            color_discrete_sequence = colors[0]\n",
    "                           )\n",
    "        fig1.update_layout(\n",
    "                          {\n",
    "                           'plot_bgcolor': bgcolor\n",
    "                          },\n",
    "                            xaxis = dict(range = lim),\n",
    "                            yaxis = dict(range = lim)\n",
    "                          )\n",
    "        fig2 = px.scatter(df[df['label'] == '1'], \n",
    "                            x = x, \n",
    "                            y = y, \n",
    "                            color = 'label', \n",
    "                            hover_data = hover, \n",
    "                            opacity = opacity,\n",
    "                            color_discrete_sequence = color[1]\n",
    "                         )\n",
    "        fig2.update_layout(\n",
    "                          {\n",
    "                           'plot_bgcolor': bgcolor\n",
    "                          },\n",
    "                            xaxis = dict(range = lim),\n",
    "                            yaxis = dict(range = lim)\n",
    "                          )\n",
    "        fig1.show()\n",
    "        fig2.show()\n",
    "    else:\n",
    "        fig = px.scatter(df, \n",
    "                         x = x, \n",
    "                         y = y, \n",
    "                         color = 'label', \n",
    "                         hover_data = hover, \n",
    "                         opacity = opacity,\n",
    "                         color_discrete_sequence = colors\n",
    "                        )\n",
    "        fig.update_layout(\n",
    "                          {\n",
    "                           'plot_bgcolor': bgcolor\n",
    "                          },\n",
    "                            width = 1000,\n",
    "                            height = 600,                    \n",
    "                         )\n",
    "        fig.show()\n",
    "        "
   ]
  },
  {
   "cell_type": "code",
   "execution_count": 4,
   "metadata": {},
   "outputs": [],
   "source": [
    "df_p1 = pd.read_csv('./plotly_p1_TOTUSJH.csv')\n",
    "df_p2 = pd.read_csv('./plotly_p2_TOTUSJH.csv')\n",
    "df_p3 = pd.read_csv('./plotly_p3_TOTUSJH.csv')\n",
    "df_p4 = pd.read_csv('./plotly_p4_TOTUSJH.csv')\n",
    "df_p5 = pd.read_csv('./plotly_p5_TOTUSJH.csv')"
   ]
  },
  {
   "cell_type": "code",
   "execution_count": 5,
   "metadata": {},
   "outputs": [],
   "source": [
    "columns = ['median', 'mean', 'min', 'max', 'std', 'skewness', 'kurtosis', 'last_value']"
   ]
  },
  {
   "cell_type": "markdown",
   "metadata": {},
   "source": [
    "### Generate the plot"
   ]
  },
  {
   "cell_type": "code",
   "execution_count": null,
   "metadata": {},
   "outputs": [],
   "source": [
    "# generate the scatter plot matrix for partition1\n",
    "plotly_scatter_plot_matrix(df_p1, columns)"
   ]
  },
  {
   "cell_type": "code",
   "execution_count": null,
   "metadata": {},
   "outputs": [],
   "source": [
    "# generate a specific single plot in the scatter plot matrix \n",
    "single_plotly_plot(df_p1, 'std', 'median')"
   ]
  }
 ],
 "metadata": {
  "kernelspec": {
   "display_name": "Python 3",
   "language": "python",
   "name": "python3"
  },
  "language_info": {
   "codemirror_mode": {
    "name": "ipython",
    "version": 3
   },
   "file_extension": ".py",
   "mimetype": "text/x-python",
   "name": "python",
   "nbconvert_exporter": "python",
   "pygments_lexer": "ipython3",
   "version": "3.6.9"
  }
 },
 "nbformat": 4,
 "nbformat_minor": 2
}
