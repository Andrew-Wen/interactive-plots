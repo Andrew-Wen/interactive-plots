{
 "cells": [
  {
   "cell_type": "markdown",
   "metadata": {},
   "source": [
    "# Interactive plots using plotly\n",
    "<br>\n",
    "\n",
    "This file is for generating the interactive scatter plot matrix for 8 statistical features of the time series of TOTUSJH for any partition in SWAN-SF dataset. Those 8 statistical features are: ['median', 'mean', 'min', 'max', 'std', 'skewness', 'kurtosis', 'last_value']. After the plot is generated, you can move the cursor on any data point to see its information of *start_time, end_time, class* and *active region*. \n",
    "\n",
    "To create a scatter plot matrix, you can run the **plotly_scatter_plot_matrix** function by specfiying which dataframe and what features you want to use.\n",
    "\n",
    "We also have a function called **single_plot_plot** to generate a single plot from the scatte plot matrix in case you have difficulties seeing the details by only looking at the scatter plot matrix itself.\n",
    "\n",
    "To generate a single plot, you can run the **single_plot_plot** function and specify which dataframe and what two features you want use. You can also choose to sperate non-flaring and flaring data instances by setting **seperate=True** when you run the function.\n",
    "\n",
    "**Reminder**: It takes a few seconds to generate the plot, since we a big number of data in any partition.  Please be patient.\n",
    "\n",
    "An example will be given below."
   ]
  },
  {
   "cell_type": "code",
   "execution_count": null,
   "metadata": {},
   "outputs": [],
   "source": [
    "import pandas as pd\n",
    "from utils import plotly_scatter_plot_matrix, single_plotly_plot"
   ]
  },
  {
   "cell_type": "markdown",
   "metadata": {},
   "source": [
    "### Load data for generating the plots"
   ]
  },
  {
   "cell_type": "code",
   "execution_count": null,
   "metadata": {},
   "outputs": [],
   "source": [
    "# load the data of each partition\n",
    "df_p1 = pd.read_csv('./plotly_p1_TOTUSJH.csv')  # load the data of partition1\n",
    "df_p2 = pd.read_csv('./plotly_p2_TOTUSJH.csv')  # load the data of partition2\n",
    "df_p3 = pd.read_csv('./plotly_p3_TOTUSJH.csv')  # load the data of partition3\n",
    "df_p4 = pd.read_csv('./plotly_p4_TOTUSJH.csv')  # load the data of partition4\n",
    "df_p5 = pd.read_csv('./plotly_p5_TOTUSJH.csv')  # load the data of partition5"
   ]
  },
  {
   "cell_type": "code",
   "execution_count": null,
   "metadata": {},
   "outputs": [],
   "source": [
    "# specify the features we will use for scatter plot matrix\n",
    "features = ['median', 'mean', 'min', 'max', 'std', 'skewness', 'kurtosis', 'last_value']"
   ]
  },
  {
   "cell_type": "markdown",
   "metadata": {},
   "source": [
    "### Generate the plots"
   ]
  },
  {
   "cell_type": "code",
   "execution_count": null,
   "metadata": {},
   "outputs": [],
   "source": [
    "# generate the scatter plot matrix for partition1\n",
    "plotly_scatter_plot_matrix(df_p1, features)"
   ]
  },
  {
   "cell_type": "code",
   "execution_count": null,
   "metadata": {},
   "outputs": [],
   "source": [
    "# generate a specific single plot in the scatter plot matrix. For example: std vs median\n",
    "single_plotly_plot(df_p1, 'std', 'median')"
   ]
  },
  {
   "cell_type": "code",
   "execution_count": null,
   "metadata": {},
   "outputs": [],
   "source": [
    "# seperate non-flaring and flaring data\n",
    "single_plotly_plot(df_p1, 'std', 'median', seperate=True)"
   ]
  }
 ],
 "metadata": {
  "kernelspec": {
   "display_name": "Python 3",
   "language": "python",
   "name": "python3"
  },
  "language_info": {
   "codemirror_mode": {
    "name": "ipython",
    "version": 3
   },
   "file_extension": ".py",
   "mimetype": "text/x-python",
   "name": "python",
   "nbconvert_exporter": "python",
   "pygments_lexer": "ipython3",
   "version": "3.7.2"
  }
 },
 "nbformat": 4,
 "nbformat_minor": 4
}
